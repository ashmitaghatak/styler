{
 "cells": [
  {
   "cell_type": "markdown",
   "id": "7b1e8514",
   "metadata": {},
   "source": [
    "# Dataset Fetch"
   ]
  },
  {
   "cell_type": "code",
   "execution_count": 14,
   "id": "9e2c3427",
   "metadata": {},
   "outputs": [
    {
     "name": "stdout",
     "output_type": "stream",
     "text": [
      "Collecting kaggle\n",
      "  Downloading kaggle-1.6.14.tar.gz (82 kB)\n",
      "     ---------------------------------------- 82.1/82.1 kB 1.1 MB/s eta 0:00:00\n",
      "  Preparing metadata (setup.py): started\n",
      "  Preparing metadata (setup.py): finished with status 'done'\n",
      "Requirement already satisfied: six>=1.10 in c:\\users\\ashmita\\appdata\\local\\packages\\pythonsoftwarefoundation.python.3.10_qbz5n2kfra8p0\\localcache\\local-packages\\python310\\site-packages (from kaggle) (1.16.0)\n",
      "Collecting certifi>=2023.7.22 (from kaggle)\n",
      "  Downloading certifi-2024.6.2-py3-none-any.whl.metadata (2.2 kB)\n",
      "Requirement already satisfied: python-dateutil in c:\\users\\ashmita\\appdata\\local\\packages\\pythonsoftwarefoundation.python.3.10_qbz5n2kfra8p0\\localcache\\local-packages\\python310\\site-packages (from kaggle) (2.8.2)\n",
      "Requirement already satisfied: requests in c:\\users\\ashmita\\appdata\\local\\packages\\pythonsoftwarefoundation.python.3.10_qbz5n2kfra8p0\\localcache\\local-packages\\python310\\site-packages (from kaggle) (2.28.1)\n",
      "Collecting tqdm (from kaggle)\n",
      "  Downloading tqdm-4.66.4-py3-none-any.whl.metadata (57 kB)\n",
      "     ---------------------------------------- 57.6/57.6 kB 3.0 MB/s eta 0:00:00\n",
      "Collecting python-slugify (from kaggle)\n",
      "  Downloading python_slugify-8.0.4-py2.py3-none-any.whl.metadata (8.5 kB)\n",
      "Requirement already satisfied: urllib3 in c:\\users\\ashmita\\appdata\\local\\packages\\pythonsoftwarefoundation.python.3.10_qbz5n2kfra8p0\\localcache\\local-packages\\python310\\site-packages (from kaggle) (1.26.10)\n",
      "Requirement already satisfied: bleach in c:\\users\\ashmita\\appdata\\local\\packages\\pythonsoftwarefoundation.python.3.10_qbz5n2kfra8p0\\localcache\\local-packages\\python310\\site-packages (from kaggle) (5.0.1)\n",
      "Requirement already satisfied: webencodings in c:\\users\\ashmita\\appdata\\local\\packages\\pythonsoftwarefoundation.python.3.10_qbz5n2kfra8p0\\localcache\\local-packages\\python310\\site-packages (from bleach->kaggle) (0.5.1)\n",
      "Collecting text-unidecode>=1.3 (from python-slugify->kaggle)\n",
      "  Downloading text_unidecode-1.3-py2.py3-none-any.whl.metadata (2.4 kB)\n",
      "Requirement already satisfied: charset-normalizer<3,>=2 in c:\\users\\ashmita\\appdata\\local\\packages\\pythonsoftwarefoundation.python.3.10_qbz5n2kfra8p0\\localcache\\local-packages\\python310\\site-packages (from requests->kaggle) (2.1.0)\n",
      "Requirement already satisfied: idna<4,>=2.5 in c:\\users\\ashmita\\appdata\\local\\packages\\pythonsoftwarefoundation.python.3.10_qbz5n2kfra8p0\\localcache\\local-packages\\python310\\site-packages (from requests->kaggle) (3.3)\n",
      "Requirement already satisfied: colorama in c:\\users\\ashmita\\appdata\\local\\packages\\pythonsoftwarefoundation.python.3.10_qbz5n2kfra8p0\\localcache\\local-packages\\python310\\site-packages (from tqdm->kaggle) (0.4.5)\n",
      "Downloading certifi-2024.6.2-py3-none-any.whl (164 kB)\n",
      "   ---------------------------------------- 164.4/164.4 kB 2.5 MB/s eta 0:00:00\n",
      "Downloading python_slugify-8.0.4-py2.py3-none-any.whl (10 kB)\n",
      "Downloading tqdm-4.66.4-py3-none-any.whl (78 kB)\n",
      "   ---------------------------------------- 78.3/78.3 kB 4.3 MB/s eta 0:00:00\n",
      "Downloading text_unidecode-1.3-py2.py3-none-any.whl (78 kB)\n",
      "   ---------------------------------------- 78.2/78.2 kB 4.2 MB/s eta 0:00:00\n",
      "Building wheels for collected packages: kaggle\n",
      "  Building wheel for kaggle (setup.py): started\n",
      "  Building wheel for kaggle (setup.py): finished with status 'done'\n",
      "  Created wheel for kaggle: filename=kaggle-1.6.14-py3-none-any.whl size=105123 sha256=d3a662615532aefbfada53d8fbf1f58cf453fd1dae15e08e850ae92c3d69b404\n",
      "  Stored in directory: c:\\users\\ashmita\\appdata\\local\\pip\\cache\\wheels\\d7\\54\\06\\8a8f40cb39536605feb9acaacd0237a95eba39e5065e6392f4\n",
      "Successfully built kaggle\n",
      "Installing collected packages: text-unidecode, tqdm, python-slugify, certifi, kaggle\n",
      "  Attempting uninstall: certifi\n",
      "    Found existing installation: certifi 2022.6.15\n",
      "    Uninstalling certifi-2022.6.15:\n",
      "      Successfully uninstalled certifi-2022.6.15\n",
      "Successfully installed certifi-2024.6.2 kaggle-1.6.14 python-slugify-8.0.4 text-unidecode-1.3 tqdm-4.66.4\n",
      "Note: you may need to restart the kernel to use updated packages.\n"
     ]
    },
    {
     "name": "stderr",
     "output_type": "stream",
     "text": [
      "  WARNING: The script tqdm.exe is installed in 'C:\\Users\\ASHMITA\\AppData\\Local\\Packages\\PythonSoftwareFoundation.Python.3.10_qbz5n2kfra8p0\\LocalCache\\local-packages\\Python310\\Scripts' which is not on PATH.\n",
      "  Consider adding this directory to PATH or, if you prefer to suppress this warning, use --no-warn-script-location.\n",
      "  WARNING: The script slugify.exe is installed in 'C:\\Users\\ASHMITA\\AppData\\Local\\Packages\\PythonSoftwareFoundation.Python.3.10_qbz5n2kfra8p0\\LocalCache\\local-packages\\Python310\\Scripts' which is not on PATH.\n",
      "  Consider adding this directory to PATH or, if you prefer to suppress this warning, use --no-warn-script-location.\n",
      "  WARNING: The script kaggle.exe is installed in 'C:\\Users\\ASHMITA\\AppData\\Local\\Packages\\PythonSoftwareFoundation.Python.3.10_qbz5n2kfra8p0\\LocalCache\\local-packages\\Python310\\Scripts' which is not on PATH.\n",
      "  Consider adding this directory to PATH or, if you prefer to suppress this warning, use --no-warn-script-location.\n"
     ]
    },
    {
     "name": "stdout",
     "output_type": "stream",
     "text": [
      "Dataset URL: https://www.kaggle.com/datasets/paramaggarwal/fashion-product-images-small\n",
      "License(s): copyright-authors\n",
      "Downloading fashion-product-images-small.zip to C:\\Users\\ASHMITA\\AppData\\Local\\Packages\\PythonSoftwareFoundation.Python.3.10_qbz5n2kfra8p0\\LocalCache\\local-packages\\Python310\\Scripts\n",
      "\n"
     ]
    },
    {
     "name": "stderr",
     "output_type": "stream",
     "text": [
      "\n",
      "  0%|          | 0.00/565M [00:00<?, ?B/s]\n",
      "  0%|          | 1.00M/565M [00:01<15:29, 636kB/s]\n",
      "  1%|          | 3.00M/565M [00:01<04:40, 2.10MB/s]\n",
      "  1%|          | 4.00M/565M [00:02<04:05, 2.39MB/s]\n",
      "  1%|1         | 6.00M/565M [00:02<02:27, 3.96MB/s]\n",
      "  1%|1         | 7.00M/565M [00:02<02:10, 4.49MB/s]\n",
      "  2%|1         | 9.00M/565M [00:02<01:32, 6.29MB/s]\n",
      "  2%|1         | 11.0M/565M [00:02<01:17, 7.50MB/s]\n",
      "  2%|2         | 13.0M/565M [00:02<01:06, 8.76MB/s]\n",
      "  3%|2         | 15.0M/565M [00:03<01:00, 9.53MB/s]\n",
      "  3%|3         | 17.0M/565M [00:03<00:56, 10.2MB/s]\n",
      "  3%|3         | 19.0M/565M [00:03<00:53, 10.7MB/s]\n",
      "  4%|3         | 21.0M/565M [00:03<00:51, 11.0MB/s]\n",
      "  4%|4         | 23.0M/565M [00:03<00:50, 11.2MB/s]\n",
      "  4%|4         | 25.0M/565M [00:04<00:49, 11.4MB/s]\n",
      "  5%|4         | 27.0M/565M [00:04<01:03, 8.92MB/s]\n",
      "  5%|4         | 28.0M/565M [00:04<01:10, 7.97MB/s]\n",
      "  5%|5         | 29.0M/565M [00:04<01:07, 8.27MB/s]\n",
      "  5%|5         | 31.0M/565M [00:04<01:00, 9.27MB/s]\n",
      "  6%|5         | 33.0M/565M [00:05<00:55, 9.99MB/s]\n",
      "  6%|6         | 35.0M/565M [00:05<00:53, 10.5MB/s]\n",
      "  7%|6         | 37.0M/565M [00:05<00:50, 10.9MB/s]\n",
      "  7%|6         | 39.0M/565M [00:05<00:49, 11.1MB/s]\n",
      "  7%|7         | 41.0M/565M [00:05<00:49, 11.2MB/s]\n",
      "  8%|7         | 43.0M/565M [00:06<00:51, 10.6MB/s]\n",
      "  8%|7         | 45.0M/565M [00:06<00:49, 10.9MB/s]\n",
      "  8%|8         | 47.0M/565M [00:06<00:48, 11.2MB/s]\n",
      "  9%|8         | 49.0M/565M [00:07<01:28, 6.15MB/s]\n",
      "  9%|9         | 51.0M/565M [00:07<01:14, 7.19MB/s]\n",
      "  9%|9         | 53.0M/565M [00:07<01:05, 8.15MB/s]\n",
      " 10%|9         | 55.0M/565M [00:07<00:59, 8.98MB/s]\n",
      " 10%|#         | 57.0M/565M [00:07<00:54, 9.69MB/s]\n",
      " 10%|#         | 59.0M/565M [00:08<01:26, 6.14MB/s]\n",
      " 11%|#         | 61.0M/565M [00:08<01:13, 7.16MB/s]\n",
      " 11%|#1        | 63.0M/565M [00:08<01:04, 8.14MB/s]\n",
      " 12%|#1        | 65.0M/565M [00:08<00:58, 8.98MB/s]\n",
      " 12%|#1        | 67.0M/565M [00:09<00:53, 9.67MB/s]\n",
      " 12%|#2        | 69.0M/565M [00:09<00:50, 10.2MB/s]\n",
      " 13%|#2        | 71.0M/565M [00:09<00:48, 10.6MB/s]\n",
      " 13%|#2        | 73.0M/565M [00:09<00:59, 8.69MB/s]\n",
      " 13%|#3        | 75.0M/565M [00:10<00:55, 9.24MB/s]\n",
      " 14%|#3        | 77.0M/565M [00:10<00:51, 10.0MB/s]\n",
      " 14%|#3        | 79.0M/565M [00:10<00:48, 10.5MB/s]\n",
      " 14%|#4        | 81.0M/565M [00:10<00:46, 10.9MB/s]\n",
      " 15%|#4        | 83.0M/565M [00:10<00:45, 11.1MB/s]\n",
      " 15%|#5        | 85.0M/565M [00:11<01:07, 7.47MB/s]\n",
      " 15%|#5        | 87.0M/565M [00:11<00:59, 8.39MB/s]\n",
      " 16%|#5        | 89.0M/565M [00:11<00:54, 9.19MB/s]\n",
      " 16%|#6        | 91.0M/565M [00:11<00:50, 9.84MB/s]\n",
      " 16%|#6        | 93.0M/565M [00:12<00:56, 8.69MB/s]\n",
      " 17%|#6        | 95.0M/565M [00:12<00:52, 9.41MB/s]\n",
      " 17%|#7        | 97.0M/565M [00:12<00:48, 10.0MB/s]\n",
      " 18%|#7        | 99.0M/565M [00:12<00:46, 10.5MB/s]\n",
      " 18%|#7        | 101M/565M [00:12<00:44, 10.9MB/s] \n",
      " 18%|#8        | 103M/565M [00:13<01:23, 5.78MB/s]\n",
      " 19%|#8        | 105M/565M [00:13<01:11, 6.74MB/s]\n",
      " 19%|#8        | 106M/565M [00:13<01:18, 6.12MB/s]\n",
      " 19%|#9        | 108M/565M [00:14<01:05, 7.29MB/s]\n",
      " 19%|#9        | 110M/565M [00:14<01:09, 6.90MB/s]\n",
      " 20%|#9        | 112M/565M [00:14<00:59, 7.94MB/s]\n",
      " 20%|##        | 114M/565M [00:14<00:53, 8.85MB/s]\n",
      " 21%|##        | 116M/565M [00:15<00:49, 9.58MB/s]\n",
      " 21%|##        | 118M/565M [00:15<00:46, 10.2MB/s]\n",
      " 21%|##1       | 120M/565M [00:15<00:43, 10.6MB/s]\n",
      " 22%|##1       | 122M/565M [00:15<00:42, 11.0MB/s]\n",
      " 22%|##1       | 124M/565M [00:15<00:41, 11.2MB/s]\n",
      " 22%|##2       | 126M/565M [00:15<00:40, 11.4MB/s]\n",
      " 23%|##2       | 128M/565M [00:16<00:39, 11.5MB/s]\n",
      " 23%|##3       | 130M/565M [00:16<01:17, 5.91MB/s]\n",
      " 23%|##3       | 132M/565M [00:17<01:05, 6.92MB/s]\n",
      " 24%|##3       | 133M/565M [00:17<01:21, 5.55MB/s]\n",
      " 24%|##3       | 135M/565M [00:17<01:06, 6.75MB/s]\n",
      " 24%|##4       | 137M/565M [00:17<00:57, 7.81MB/s]\n",
      " 25%|##4       | 139M/565M [00:17<00:51, 8.76MB/s]\n",
      " 25%|##4       | 141M/565M [00:18<00:47, 9.40MB/s]\n",
      " 25%|##5       | 143M/565M [00:18<00:44, 9.93MB/s]\n",
      " 26%|##5       | 145M/565M [00:18<00:42, 10.3MB/s]\n",
      " 26%|##6       | 147M/565M [00:18<00:40, 10.8MB/s]\n",
      " 26%|##6       | 149M/565M [00:18<00:39, 11.0MB/s]\n",
      " 27%|##6       | 151M/565M [00:19<00:38, 11.3MB/s]\n",
      " 27%|##7       | 153M/565M [00:19<01:24, 5.09MB/s]\n",
      " 27%|##7       | 155M/565M [00:20<01:26, 5.00MB/s]\n",
      " 28%|##7       | 157M/565M [00:20<01:24, 5.04MB/s]\n",
      " 28%|##8       | 159M/565M [00:20<01:09, 6.09MB/s]\n",
      " 28%|##8       | 161M/565M [00:21<00:59, 7.07MB/s]\n",
      " 29%|##8       | 163M/565M [00:21<00:52, 8.01MB/s]\n",
      " 29%|##9       | 165M/565M [00:21<00:47, 8.87MB/s]\n",
      " 30%|##9       | 167M/565M [00:21<00:43, 9.58MB/s]\n",
      " 30%|##9       | 169M/565M [00:21<00:40, 10.1MB/s]\n",
      " 30%|###       | 171M/565M [00:22<00:39, 10.6MB/s]\n",
      " 31%|###       | 173M/565M [00:22<00:37, 10.9MB/s]\n",
      " 31%|###       | 175M/565M [00:22<00:36, 11.2MB/s]\n",
      " 31%|###1      | 177M/565M [00:22<00:35, 11.3MB/s]\n",
      " 32%|###1      | 179M/565M [00:22<00:35, 11.4MB/s]\n",
      " 32%|###2      | 181M/565M [00:22<00:34, 11.5MB/s]\n",
      " 32%|###2      | 183M/565M [00:23<00:34, 11.6MB/s]\n",
      " 33%|###2      | 185M/565M [00:24<01:37, 4.09MB/s]\n",
      " 33%|###3      | 187M/565M [00:25<01:57, 3.36MB/s]\n",
      " 33%|###3      | 189M/565M [00:25<01:32, 4.28MB/s]\n",
      " 34%|###3      | 191M/565M [00:25<01:14, 5.29MB/s]\n",
      " 34%|###4      | 193M/565M [00:25<01:01, 6.34MB/s]\n",
      " 35%|###4      | 195M/565M [00:25<00:52, 7.36MB/s]\n",
      " 35%|###4      | 197M/565M [00:26<00:46, 8.30MB/s]\n",
      " 35%|###5      | 199M/565M [00:26<00:42, 9.11MB/s]\n",
      " 36%|###5      | 201M/565M [00:26<00:39, 9.78MB/s]\n",
      " 36%|###5      | 203M/565M [00:26<00:36, 10.3MB/s]\n",
      " 36%|###6      | 205M/565M [00:26<00:35, 10.7MB/s]\n",
      " 37%|###6      | 207M/565M [00:27<00:34, 10.9MB/s]\n",
      " 37%|###6      | 209M/565M [00:27<00:40, 9.31MB/s]\n",
      " 37%|###7      | 211M/565M [00:27<00:37, 9.93MB/s]\n",
      " 38%|###7      | 213M/565M [00:27<00:35, 10.4MB/s]\n",
      " 38%|###8      | 215M/565M [00:27<00:33, 10.8MB/s]\n",
      " 38%|###8      | 217M/565M [00:28<00:32, 11.1MB/s]\n",
      " 39%|###8      | 219M/565M [00:28<00:32, 11.2MB/s]\n",
      " 39%|###9      | 221M/565M [00:28<00:31, 11.4MB/s]\n",
      " 39%|###9      | 223M/565M [00:28<00:31, 11.5MB/s]\n",
      " 40%|###9      | 225M/565M [00:28<00:30, 11.6MB/s]\n",
      " 40%|####      | 227M/565M [00:29<00:36, 9.70MB/s]\n",
      " 41%|####      | 229M/565M [00:29<00:34, 10.2MB/s]\n",
      " 41%|####      | 231M/565M [00:29<00:32, 10.7MB/s]\n",
      " 41%|####1     | 233M/565M [00:29<00:39, 8.80MB/s]\n",
      " 41%|####1     | 234M/565M [00:30<00:56, 6.16MB/s]\n",
      " 42%|####1     | 236M/565M [00:30<00:46, 7.36MB/s]\n",
      " 42%|####2     | 238M/565M [00:30<00:53, 6.36MB/s]\n",
      " 42%|####2     | 240M/565M [00:30<00:45, 7.43MB/s]\n",
      " 43%|####2     | 242M/565M [00:31<00:40, 8.41MB/s]\n",
      " 43%|####3     | 244M/565M [00:31<00:36, 9.20MB/s]\n",
      " 44%|####3     | 246M/565M [00:31<00:33, 9.88MB/s]\n",
      " 44%|####3     | 248M/565M [00:31<00:31, 10.4MB/s]\n",
      " 44%|####4     | 250M/565M [00:32<00:44, 7.39MB/s]\n",
      " 45%|####4     | 252M/565M [00:32<00:39, 8.37MB/s]\n",
      " 45%|####4     | 254M/565M [00:32<00:35, 9.18MB/s]\n",
      " 45%|####5     | 256M/565M [00:33<00:53, 6.05MB/s]\n",
      " 46%|####5     | 258M/565M [00:33<00:45, 7.08MB/s]\n",
      " 46%|####6     | 260M/565M [00:33<00:39, 8.00MB/s]\n",
      " 46%|####6     | 261M/565M [00:33<00:43, 7.34MB/s]\n",
      " 46%|####6     | 262M/565M [00:33<00:47, 6.64MB/s]\n",
      " 47%|####6     | 264M/565M [00:34<00:40, 7.88MB/s]\n",
      " 47%|####6     | 265M/565M [00:34<00:51, 6.09MB/s]\n",
      " 47%|####7     | 267M/565M [00:34<00:42, 7.42MB/s]\n",
      " 48%|####7     | 269M/565M [00:34<00:36, 8.52MB/s]\n",
      " 48%|####7     | 271M/565M [00:34<00:32, 9.39MB/s]\n",
      " 48%|####8     | 273M/565M [00:35<00:30, 10.0MB/s]\n",
      " 49%|####8     | 275M/565M [00:35<00:28, 10.5MB/s]\n",
      " 49%|####9     | 277M/565M [00:35<00:27, 10.9MB/s]\n",
      " 49%|####9     | 279M/565M [00:35<00:26, 11.1MB/s]\n",
      " 50%|####9     | 281M/565M [00:35<00:26, 11.3MB/s]\n",
      " 50%|#####     | 283M/565M [00:36<00:25, 11.4MB/s]\n",
      " 50%|#####     | 285M/565M [00:36<00:25, 11.5MB/s]\n",
      " 51%|#####     | 287M/565M [00:36<00:25, 11.6MB/s]\n",
      " 51%|#####1    | 289M/565M [00:36<00:24, 11.7MB/s]\n",
      " 51%|#####1    | 291M/565M [00:36<00:24, 11.7MB/s]\n",
      " 52%|#####1    | 293M/565M [00:36<00:24, 11.7MB/s]\n",
      " 52%|#####2    | 295M/565M [00:37<00:24, 11.8MB/s]\n",
      " 53%|#####2    | 297M/565M [00:37<00:34, 8.20MB/s]\n",
      " 53%|#####2    | 299M/565M [00:37<00:30, 9.04MB/s]\n",
      " 53%|#####3    | 301M/565M [00:37<00:28, 9.72MB/s]\n",
      " 54%|#####3    | 303M/565M [00:38<00:26, 10.3MB/s]\n",
      " 54%|#####3    | 305M/565M [00:38<00:25, 10.7MB/s]\n",
      " 54%|#####4    | 307M/565M [00:38<00:24, 11.0MB/s]\n",
      " 55%|#####4    | 309M/565M [00:38<00:23, 11.2MB/s]\n",
      " 55%|#####5    | 311M/565M [00:38<00:23, 11.4MB/s]\n",
      " 55%|#####5    | 313M/565M [00:38<00:22, 11.5MB/s]\n",
      " 56%|#####5    | 315M/565M [00:39<00:22, 11.6MB/s]\n",
      " 56%|#####6    | 317M/565M [00:39<00:22, 11.7MB/s]\n",
      " 56%|#####6    | 319M/565M [00:39<00:34, 7.51MB/s]\n",
      " 57%|#####6    | 321M/565M [00:39<00:30, 8.36MB/s]\n",
      " 57%|#####7    | 323M/565M [00:40<00:27, 9.15MB/s]\n",
      " 58%|#####7    | 325M/565M [00:40<00:34, 7.25MB/s]\n",
      " 58%|#####7    | 327M/565M [00:40<00:30, 8.21MB/s]\n",
      " 58%|#####8    | 329M/565M [00:40<00:27, 9.04MB/s]\n",
      " 59%|#####8    | 331M/565M [00:41<00:25, 9.74MB/s]\n",
      " 59%|#####8    | 333M/565M [00:41<00:35, 6.88MB/s]\n",
      " 59%|#####9    | 334M/565M [00:41<00:43, 5.52MB/s]\n",
      " 59%|#####9    | 336M/565M [00:42<00:35, 6.73MB/s]\n",
      " 60%|#####9    | 338M/565M [00:42<00:30, 7.76MB/s]\n",
      " 60%|######    | 340M/565M [00:42<00:27, 8.57MB/s]\n",
      " 60%|######    | 341M/565M [00:42<00:39, 5.88MB/s]\n",
      " 61%|######    | 343M/565M [00:43<00:32, 7.12MB/s]\n",
      " 61%|######1   | 345M/565M [00:43<00:28, 8.20MB/s]\n",
      " 61%|######1   | 347M/565M [00:43<00:25, 8.89MB/s]\n",
      " 62%|######1   | 348M/565M [00:43<00:34, 6.51MB/s]\n",
      " 62%|######1   | 350M/565M [00:44<00:29, 7.68MB/s]\n",
      " 62%|######2   | 351M/565M [00:44<00:28, 7.96MB/s]\n",
      " 62%|######2   | 353M/565M [00:44<00:24, 9.04MB/s]\n",
      " 63%|######2   | 355M/565M [00:44<00:22, 9.82MB/s]\n",
      " 63%|######3   | 357M/565M [00:44<00:21, 10.4MB/s]\n",
      " 64%|######3   | 359M/565M [00:44<00:20, 10.8MB/s]\n",
      " 64%|######3   | 361M/565M [00:45<00:46, 4.64MB/s]\n",
      " 64%|######4   | 363M/565M [00:46<00:37, 5.68MB/s]\n",
      " 65%|######4   | 365M/565M [00:46<00:31, 6.74MB/s]\n",
      " 65%|######4   | 367M/565M [00:46<00:26, 7.76MB/s]\n",
      " 65%|######5   | 369M/565M [00:46<00:23, 8.67MB/s]\n",
      " 66%|######5   | 371M/565M [00:46<00:21, 9.41MB/s]\n",
      " 66%|######5   | 373M/565M [00:46<00:20, 10.0MB/s]\n",
      " 66%|######6   | 375M/565M [00:47<00:36, 5.51MB/s]\n",
      " 67%|######6   | 377M/565M [00:48<00:40, 4.91MB/s]\n",
      " 67%|######7   | 379M/565M [00:48<00:32, 5.96MB/s]\n",
      " 67%|######7   | 380M/565M [00:48<00:40, 4.74MB/s]\n",
      " 68%|######7   | 382M/565M [00:49<00:32, 5.91MB/s]\n",
      " 68%|######7   | 384M/565M [00:49<00:27, 7.03MB/s]\n",
      " 68%|######8   | 386M/565M [00:49<00:23, 8.04MB/s]\n",
      " 69%|######8   | 388M/565M [00:49<00:20, 8.94MB/s]\n",
      " 69%|######9   | 390M/565M [00:49<00:18, 9.68MB/s]\n",
      " 69%|######9   | 392M/565M [00:49<00:17, 10.3MB/s]\n",
      " 70%|######9   | 394M/565M [00:50<00:16, 10.7MB/s]\n",
      " 70%|#######   | 396M/565M [00:50<00:22, 8.02MB/s]\n",
      " 70%|#######   | 398M/565M [00:50<00:19, 8.89MB/s]\n",
      " 71%|#######   | 400M/565M [00:50<00:18, 9.59MB/s]\n",
      " 71%|#######1  | 402M/565M [00:51<00:16, 10.1MB/s]\n",
      " 71%|#######1  | 404M/565M [00:51<00:15, 10.7MB/s]\n",
      " 72%|#######1  | 406M/565M [00:51<00:15, 10.9MB/s]\n",
      " 72%|#######2  | 408M/565M [00:51<00:14, 11.1MB/s]\n",
      " 73%|#######2  | 410M/565M [00:51<00:14, 11.2MB/s]\n",
      " 73%|#######2  | 412M/565M [00:52<00:14, 10.9MB/s]\n",
      " 73%|#######3  | 414M/565M [00:52<00:14, 11.3MB/s]\n",
      " 74%|#######3  | 416M/565M [00:52<00:13, 11.5MB/s]\n",
      " 74%|#######3  | 418M/565M [00:52<00:13, 11.5MB/s]\n",
      " 74%|#######4  | 420M/565M [00:52<00:13, 11.6MB/s]\n",
      " 75%|#######4  | 422M/565M [00:52<00:13, 11.4MB/s]\n",
      " 75%|#######5  | 424M/565M [00:53<00:32, 4.58MB/s]\n",
      " 75%|#######5  | 426M/565M [00:54<00:26, 5.61MB/s]\n",
      " 76%|#######5  | 428M/565M [00:54<00:21, 6.65MB/s]\n",
      " 76%|#######6  | 430M/565M [00:54<00:18, 7.65MB/s]\n",
      " 76%|#######6  | 432M/565M [00:54<00:16, 8.55MB/s]\n",
      " 77%|#######6  | 434M/565M [00:55<00:22, 6.08MB/s]\n",
      " 77%|#######7  | 436M/565M [00:55<00:19, 7.11MB/s]\n",
      " 77%|#######7  | 438M/565M [00:55<00:16, 8.06MB/s]\n",
      " 78%|#######7  | 440M/565M [00:55<00:14, 8.91MB/s]\n",
      " 78%|#######8  | 442M/565M [00:56<00:23, 5.59MB/s]\n",
      " 79%|#######8  | 444M/565M [00:56<00:19, 6.57MB/s]\n",
      " 79%|#######8  | 445M/565M [00:56<00:19, 6.32MB/s]\n",
      " 79%|#######8  | 446M/565M [00:57<00:18, 6.74MB/s]\n",
      " 79%|#######9  | 447M/565M [00:57<00:16, 7.29MB/s]\n",
      " 79%|#######9  | 449M/565M [00:57<00:14, 8.46MB/s]\n",
      " 80%|#######9  | 451M/565M [00:57<00:12, 9.48MB/s]\n",
      " 80%|########  | 453M/565M [00:57<00:11, 10.2MB/s]\n",
      " 81%|########  | 455M/565M [00:58<00:15, 7.60MB/s]\n",
      " 81%|########  | 457M/565M [00:58<00:13, 8.56MB/s]\n",
      " 81%|########1 | 458M/565M [00:58<00:12, 8.85MB/s]\n",
      " 81%|########1 | 459M/565M [00:58<00:17, 6.38MB/s]\n",
      " 81%|########1 | 460M/565M [00:58<00:15, 6.94MB/s]\n",
      " 82%|########1 | 462M/565M [00:58<00:13, 8.17MB/s]\n",
      " 82%|########2 | 464M/565M [00:59<00:11, 9.20MB/s]\n",
      " 82%|########2 | 466M/565M [00:59<00:10, 9.91MB/s]\n",
      " 83%|########2 | 468M/565M [00:59<00:09, 10.5MB/s]\n",
      " 83%|########3 | 470M/565M [00:59<00:09, 10.4MB/s]\n",
      " 84%|########3 | 472M/565M [01:00<00:12, 7.92MB/s]\n",
      " 84%|########3 | 474M/565M [01:00<00:10, 8.80MB/s]\n",
      " 84%|########4 | 476M/565M [01:00<00:09, 9.57MB/s]\n",
      " 85%|########4 | 478M/565M [01:00<00:12, 7.37MB/s]\n",
      " 85%|########4 | 480M/565M [01:01<00:10, 8.33MB/s]\n",
      " 85%|########5 | 482M/565M [01:01<00:09, 9.14MB/s]\n",
      " 85%|########5 | 483M/565M [01:01<00:12, 6.81MB/s]\n",
      " 86%|########5 | 485M/565M [01:01<00:10, 7.95MB/s]\n",
      " 86%|########6 | 487M/565M [01:01<00:09, 8.90MB/s]\n",
      " 87%|########6 | 489M/565M [01:02<00:09, 8.61MB/s]\n",
      " 87%|########6 | 490M/565M [01:02<00:08, 8.79MB/s]\n",
      " 87%|########7 | 492M/565M [01:02<00:07, 9.64MB/s]\n",
      " 87%|########7 | 494M/565M [01:02<00:07, 10.3MB/s]\n",
      " 88%|########7 | 496M/565M [01:02<00:06, 10.7MB/s]\n",
      " 88%|########8 | 498M/565M [01:03<00:06, 10.7MB/s]\n",
      " 88%|########8 | 500M/565M [01:03<00:06, 11.0MB/s]\n",
      " 89%|########8 | 502M/565M [01:03<00:05, 11.2MB/s]\n",
      " 89%|########9 | 504M/565M [01:03<00:05, 11.4MB/s]\n",
      " 90%|########9 | 506M/565M [01:03<00:05, 11.5MB/s]\n",
      " 90%|########9 | 508M/565M [01:03<00:05, 11.6MB/s]\n",
      " 90%|######### | 510M/565M [01:04<00:04, 11.6MB/s]\n",
      " 91%|######### | 512M/565M [01:04<00:04, 11.7MB/s]\n",
      " 91%|######### | 514M/565M [01:04<00:04, 11.7MB/s]\n",
      " 91%|#########1| 516M/565M [01:04<00:04, 11.8MB/s]\n",
      " 92%|#########1| 518M/565M [01:04<00:04, 11.7MB/s]\n",
      " 92%|#########2| 520M/565M [01:05<00:04, 9.57MB/s]\n",
      " 92%|#########2| 521M/565M [01:05<00:09, 4.92MB/s]\n",
      " 92%|#########2| 522M/565M [01:05<00:08, 5.50MB/s]\n",
      " 93%|#########2| 524M/565M [01:06<00:06, 6.78MB/s]\n",
      " 93%|#########3| 526M/565M [01:06<00:08, 5.03MB/s]\n",
      " 93%|#########3| 528M/565M [01:06<00:06, 6.20MB/s]\n",
      " 94%|#########3| 530M/565M [01:07<00:05, 7.22MB/s]\n",
      " 94%|#########4| 532M/565M [01:07<00:04, 8.19MB/s]\n",
      " 94%|#########4| 534M/565M [01:07<00:03, 9.07MB/s]\n",
      " 95%|#########4| 536M/565M [01:07<00:03, 9.77MB/s]\n",
      " 95%|#########5| 538M/565M [01:07<00:02, 10.3MB/s]\n",
      " 96%|#########5| 540M/565M [01:08<00:02, 10.7MB/s]\n",
      " 96%|#########5| 542M/565M [01:08<00:02, 11.0MB/s]\n",
      " 96%|#########6| 544M/565M [01:08<00:03, 6.65MB/s]\n",
      " 97%|#########6| 546M/565M [01:09<00:04, 5.01MB/s]\n",
      " 97%|#########6| 548M/565M [01:09<00:02, 6.06MB/s]\n",
      " 97%|#########7| 550M/565M [01:09<00:02, 7.09MB/s]\n",
      " 98%|#########7| 552M/565M [01:09<00:01, 8.06MB/s]\n",
      " 98%|#########8| 554M/565M [01:10<00:01, 8.79MB/s]\n",
      " 98%|#########8| 556M/565M [01:10<00:01, 9.46MB/s]\n",
      " 99%|#########8| 558M/565M [01:10<00:00, 10.1MB/s]\n",
      " 99%|#########9| 560M/565M [01:10<00:00, 10.5MB/s]\n",
      " 99%|#########9| 562M/565M [01:10<00:00, 10.7MB/s]\n",
      "100%|#########9| 564M/565M [01:11<00:00, 8.00MB/s]\n",
      "100%|#########9| 565M/565M [01:11<00:00, 5.13MB/s]\n",
      "100%|##########| 565M/565M [01:11<00:00, 8.24MB/s]\n"
     ]
    }
   ],
   "source": [
    "%pip install kaggle\n",
    "!kaggle datasets download -d paramaggarwal/fashion-product-images-small\n"
   ]
  },
  {
   "cell_type": "code",
   "execution_count": 1,
   "id": "9028f7b8",
   "metadata": {},
   "outputs": [
    {
     "name": "stdout",
     "output_type": "stream",
     "text": [
      "Dataset URL: https://www.kaggle.com/datasets/paramaggarwal/fashion-product-images-small\n",
      "License(s): copyright-authors\n",
      "fashion-product-images-small.zip: Skipping, found more recently modified local copy (use --force to force download)\n"
     ]
    }
   ],
   "source": [
    "!kaggle datasets download -d paramaggarwal/fashion-product-images-small\n"
   ]
  },
  {
   "cell_type": "code",
   "execution_count": 2,
   "id": "6ba582bd",
   "metadata": {},
   "outputs": [
    {
     "name": "stdout",
     "output_type": "stream",
     "text": [
      "Extracted files: ['images', 'myntradataset', 'styles.csv']\n"
     ]
    }
   ],
   "source": [
    "import zipfile\n",
    "import os\n",
    "\n",
    "# Path to the downloaded zip file\n",
    "zip_file_path = 'fashion-product-images-small.zip'\n",
    "\n",
    "# Directory to extract the files to\n",
    "extract_to_dir = 'fashion_dataset'\n",
    "\n",
    "# Unzip the file\n",
    "with zipfile.ZipFile(zip_file_path, 'r') as zip_ref:\n",
    "    zip_ref.extractall(extract_to_dir)\n",
    "\n",
    "# List the contents of the extracted directory\n",
    "extracted_files = os.listdir(extract_to_dir)\n",
    "print(\"Extracted files:\", extracted_files)\n"
   ]
  },
  {
   "cell_type": "code",
   "execution_count": 5,
   "id": "063e80c2",
   "metadata": {
    "scrolled": true
   },
   "outputs": [],
   "source": [
    "import pandas as pd\n",
    "import numpy as np\n",
    "import matplotlib.pyplot as plt\n",
    "import seaborn as sns\n",
    "%matplotlib inline\n",
    "\n"
   ]
  },
  {
   "cell_type": "code",
   "execution_count": 3,
   "id": "7bde9d9a",
   "metadata": {},
   "outputs": [
    {
     "data": {
      "text/html": [
       "<div>\n",
       "<style scoped>\n",
       "    .dataframe tbody tr th:only-of-type {\n",
       "        vertical-align: middle;\n",
       "    }\n",
       "\n",
       "    .dataframe tbody tr th {\n",
       "        vertical-align: top;\n",
       "    }\n",
       "\n",
       "    .dataframe thead th {\n",
       "        text-align: right;\n",
       "    }\n",
       "</style>\n",
       "<table border=\"1\" class=\"dataframe\">\n",
       "  <thead>\n",
       "    <tr style=\"text-align: right;\">\n",
       "      <th></th>\n",
       "      <th>id</th>\n",
       "      <th>gender</th>\n",
       "      <th>masterCategory</th>\n",
       "      <th>subCategory</th>\n",
       "      <th>articleType</th>\n",
       "      <th>baseColour</th>\n",
       "      <th>season</th>\n",
       "      <th>year</th>\n",
       "      <th>usage</th>\n",
       "      <th>productDisplayName</th>\n",
       "      <th>Unnamed: 10</th>\n",
       "      <th>Unnamed: 11</th>\n",
       "    </tr>\n",
       "  </thead>\n",
       "  <tbody>\n",
       "    <tr>\n",
       "      <th>0</th>\n",
       "      <td>15970</td>\n",
       "      <td>Men</td>\n",
       "      <td>Apparel</td>\n",
       "      <td>Topwear</td>\n",
       "      <td>Shirts</td>\n",
       "      <td>Navy Blue</td>\n",
       "      <td>Fall</td>\n",
       "      <td>2011.0</td>\n",
       "      <td>Casual</td>\n",
       "      <td>Turtle Check Men Navy Blue Shirt</td>\n",
       "      <td>NaN</td>\n",
       "      <td>NaN</td>\n",
       "    </tr>\n",
       "    <tr>\n",
       "      <th>1</th>\n",
       "      <td>39386</td>\n",
       "      <td>Men</td>\n",
       "      <td>Apparel</td>\n",
       "      <td>Bottomwear</td>\n",
       "      <td>Jeans</td>\n",
       "      <td>Blue</td>\n",
       "      <td>Summer</td>\n",
       "      <td>2012.0</td>\n",
       "      <td>Casual</td>\n",
       "      <td>Peter England Men Party Blue Jeans</td>\n",
       "      <td>NaN</td>\n",
       "      <td>NaN</td>\n",
       "    </tr>\n",
       "    <tr>\n",
       "      <th>2</th>\n",
       "      <td>59263</td>\n",
       "      <td>Women</td>\n",
       "      <td>Accessories</td>\n",
       "      <td>Watches</td>\n",
       "      <td>Watches</td>\n",
       "      <td>Silver</td>\n",
       "      <td>Winter</td>\n",
       "      <td>2016.0</td>\n",
       "      <td>Casual</td>\n",
       "      <td>Titan Women Silver Watch</td>\n",
       "      <td>NaN</td>\n",
       "      <td>NaN</td>\n",
       "    </tr>\n",
       "    <tr>\n",
       "      <th>3</th>\n",
       "      <td>21379</td>\n",
       "      <td>Men</td>\n",
       "      <td>Apparel</td>\n",
       "      <td>Bottomwear</td>\n",
       "      <td>Track Pants</td>\n",
       "      <td>Black</td>\n",
       "      <td>Fall</td>\n",
       "      <td>2011.0</td>\n",
       "      <td>Casual</td>\n",
       "      <td>Manchester United Men Solid Black Track Pants</td>\n",
       "      <td>NaN</td>\n",
       "      <td>NaN</td>\n",
       "    </tr>\n",
       "    <tr>\n",
       "      <th>4</th>\n",
       "      <td>53759</td>\n",
       "      <td>Men</td>\n",
       "      <td>Apparel</td>\n",
       "      <td>Topwear</td>\n",
       "      <td>Tshirts</td>\n",
       "      <td>Grey</td>\n",
       "      <td>Summer</td>\n",
       "      <td>2012.0</td>\n",
       "      <td>Casual</td>\n",
       "      <td>Puma Men Grey T-shirt</td>\n",
       "      <td>NaN</td>\n",
       "      <td>NaN</td>\n",
       "    </tr>\n",
       "  </tbody>\n",
       "</table>\n",
       "</div>"
      ],
      "text/plain": [
       "      id gender masterCategory subCategory  articleType baseColour  season  \\\n",
       "0  15970    Men        Apparel     Topwear       Shirts  Navy Blue    Fall   \n",
       "1  39386    Men        Apparel  Bottomwear        Jeans       Blue  Summer   \n",
       "2  59263  Women    Accessories     Watches      Watches     Silver  Winter   \n",
       "3  21379    Men        Apparel  Bottomwear  Track Pants      Black    Fall   \n",
       "4  53759    Men        Apparel     Topwear      Tshirts       Grey  Summer   \n",
       "\n",
       "     year   usage                             productDisplayName Unnamed: 10  \\\n",
       "0  2011.0  Casual               Turtle Check Men Navy Blue Shirt         NaN   \n",
       "1  2012.0  Casual             Peter England Men Party Blue Jeans         NaN   \n",
       "2  2016.0  Casual                       Titan Women Silver Watch         NaN   \n",
       "3  2011.0  Casual  Manchester United Men Solid Black Track Pants         NaN   \n",
       "4  2012.0  Casual                          Puma Men Grey T-shirt         NaN   \n",
       "\n",
       "  Unnamed: 11  \n",
       "0         NaN  \n",
       "1         NaN  \n",
       "2         NaN  \n",
       "3         NaN  \n",
       "4         NaN  "
      ]
     },
     "execution_count": 3,
     "metadata": {},
     "output_type": "execute_result"
    }
   ],
   "source": [
    "# Load the dataset\n",
    "df = pd.read_csv('styles.csv')\n",
    "\n",
    "# Display the first few rows of the dataset\n",
    "df.head()"
   ]
  },
  {
   "cell_type": "markdown",
   "id": "635f15fc",
   "metadata": {},
   "source": [
    "## Dataset Preprocessing"
   ]
  },
  {
   "cell_type": "code",
   "execution_count": 7,
   "id": "9277c896",
   "metadata": {
    "scrolled": true
   },
   "outputs": [
    {
     "data": {
      "text/plain": [
       "Index(['id', 'gender', 'masterCategory', 'subCategory', 'articleType',\n",
       "       'baseColour', 'season', 'year', 'usage', 'productDisplayName',\n",
       "       'Unnamed: 10', 'Unnamed: 11'],\n",
       "      dtype='object')"
      ]
     },
     "execution_count": 7,
     "metadata": {},
     "output_type": "execute_result"
    }
   ],
   "source": [
    "df.columns"
   ]
  },
  {
   "cell_type": "code",
   "execution_count": 8,
   "id": "8504fb50",
   "metadata": {},
   "outputs": [
    {
     "data": {
      "text/plain": [
       "(44446, 12)"
      ]
     },
     "execution_count": 8,
     "metadata": {},
     "output_type": "execute_result"
    }
   ],
   "source": [
    "df.shape"
   ]
  },
  {
   "cell_type": "code",
   "execution_count": 9,
   "id": "f5f1d912",
   "metadata": {},
   "outputs": [
    {
     "data": {
      "text/plain": [
       "id                        0\n",
       "gender                    0\n",
       "masterCategory            0\n",
       "subCategory               0\n",
       "articleType               0\n",
       "baseColour               15\n",
       "season                   21\n",
       "year                      1\n",
       "usage                   317\n",
       "productDisplayName        7\n",
       "Unnamed: 10           44424\n",
       "Unnamed: 11           44444\n",
       "dtype: int64"
      ]
     },
     "execution_count": 9,
     "metadata": {},
     "output_type": "execute_result"
    }
   ],
   "source": [
    "# check if there are any missing values\n",
    "df.isnull().sum()"
   ]
  },
  {
   "cell_type": "code",
   "execution_count": 12,
   "id": "3af1f65d",
   "metadata": {},
   "outputs": [],
   "source": [
    "# Drop the columns 'Unnamed: 10' and 'Unnamed: 11'\n",
    "df = df.drop(['Unnamed: 10', 'Unnamed: 11'], axis=1)\n",
    "\n"
   ]
  },
  {
   "cell_type": "code",
   "execution_count": 13,
   "id": "b766ffad",
   "metadata": {},
   "outputs": [
    {
     "data": {
      "text/plain": [
       "id                      0\n",
       "gender                  0\n",
       "masterCategory          0\n",
       "subCategory             0\n",
       "articleType             0\n",
       "baseColour             15\n",
       "season                 21\n",
       "year                    1\n",
       "usage                 317\n",
       "productDisplayName      7\n",
       "dtype: int64"
      ]
     },
     "execution_count": 13,
     "metadata": {},
     "output_type": "execute_result"
    }
   ],
   "source": [
    "# check if there are any missing values\n",
    "df.isnull().sum()"
   ]
  },
  {
   "cell_type": "code",
   "execution_count": 14,
   "id": "0503bd1e",
   "metadata": {},
   "outputs": [
    {
     "name": "stdout",
     "output_type": "stream",
     "text": [
      "      id gender masterCategory subCategory  articleType baseColour  season  \\\n",
      "0  15970    Men        Apparel     Topwear       Shirts  Navy Blue    Fall   \n",
      "1  39386    Men        Apparel  Bottomwear        Jeans       Blue  Summer   \n",
      "2  59263  Women    Accessories     Watches      Watches     Silver  Winter   \n",
      "3  21379    Men        Apparel  Bottomwear  Track Pants      Black    Fall   \n",
      "4  53759    Men        Apparel     Topwear      Tshirts       Grey  Summer   \n",
      "\n",
      "     year   usage                             productDisplayName  \n",
      "0  2011.0  Casual               Turtle Check Men Navy Blue Shirt  \n",
      "1  2012.0  Casual             Peter England Men Party Blue Jeans  \n",
      "2  2016.0  Casual                       Titan Women Silver Watch  \n",
      "3  2011.0  Casual  Manchester United Men Solid Black Track Pants  \n",
      "4  2012.0  Casual                          Puma Men Grey T-shirt  \n"
     ]
    }
   ],
   "source": [
    "# Drop rows with missing values\n",
    "df.dropna(inplace=True)\n",
    "\n",
    "# Print the first few rows to verify\n",
    "print(df.head())\n"
   ]
  },
  {
   "cell_type": "code",
   "execution_count": 15,
   "id": "3d3bc2af",
   "metadata": {},
   "outputs": [
    {
     "name": "stdout",
     "output_type": "stream",
     "text": [
      "Shape before dropping missing values: (44099, 10)\n",
      "Shape after dropping missing values: (44099, 10)\n"
     ]
    }
   ],
   "source": [
    "# Before dropping missing values\n",
    "print(\"Shape before dropping missing values:\", df.shape)\n",
    "\n",
    "# Drop rows with missing values\n",
    "df.dropna(inplace=True)\n",
    "\n",
    "# After dropping missing values\n",
    "print(\"Shape after dropping missing values:\", df.shape)\n",
    "\n"
   ]
  },
  {
   "cell_type": "code",
   "execution_count": 16,
   "id": "7c72c0a8",
   "metadata": {},
   "outputs": [],
   "source": [
    "# arrange in ascending order of id\n",
    "# data.sort_values('id', inplace=True)"
   ]
  },
  {
   "cell_type": "markdown",
   "id": "836f06c3",
   "metadata": {},
   "source": [
    "Check Uniques"
   ]
  },
  {
   "cell_type": "code",
   "execution_count": 17,
   "id": "4536ec95",
   "metadata": {},
   "outputs": [
    {
     "data": {
      "text/plain": [
       "array(['Apparel', 'Accessories', 'Footwear', 'Personal Care',\n",
       "       'Free Items', 'Sporting Goods', 'Home'], dtype=object)"
      ]
     },
     "execution_count": 17,
     "metadata": {},
     "output_type": "execute_result"
    }
   ],
   "source": [
    "# check the unique values in the column 'masterCategory'\n",
    "df['masterCategory'].unique()"
   ]
  },
  {
   "cell_type": "code",
   "execution_count": 18,
   "id": "ff8785aa",
   "metadata": {},
   "outputs": [
    {
     "data": {
      "text/plain": [
       "array(['Topwear', 'Bottomwear', 'Watches', 'Socks', 'Shoes', 'Belts',\n",
       "       'Flip Flops', 'Bags', 'Innerwear', 'Sandal', 'Shoe Accessories',\n",
       "       'Fragrance', 'Jewellery', 'Lips', 'Saree', 'Eyewear', 'Scarves',\n",
       "       'Dress', 'Loungewear and Nightwear', 'Wallets', 'Apparel Set',\n",
       "       'Headwear', 'Mufflers', 'Skin Care', 'Makeup', 'Free Gifts',\n",
       "       'Ties', 'Accessories', 'Nails', 'Beauty Accessories',\n",
       "       'Water Bottle', 'Skin', 'Eyes', 'Bath and Body', 'Gloves',\n",
       "       'Sports Accessories', 'Cufflinks', 'Sports Equipment', 'Stoles',\n",
       "       'Hair', 'Perfumes', 'Home Furnishing', 'Umbrellas', 'Wristbands',\n",
       "       'Vouchers'], dtype=object)"
      ]
     },
     "execution_count": 18,
     "metadata": {},
     "output_type": "execute_result"
    }
   ],
   "source": [
    "# check the unique values in the column 'subCategory'\n",
    "df['subCategory'].unique()"
   ]
  },
  {
   "cell_type": "code",
   "execution_count": 19,
   "id": "8d3e5c76",
   "metadata": {},
   "outputs": [
    {
     "data": {
      "text/plain": [
       "142"
      ]
     },
     "execution_count": 19,
     "metadata": {},
     "output_type": "execute_result"
    }
   ],
   "source": [
    "# check the unique values in the column 'articleType'\n",
    "df['articleType'].unique()\n",
    "\n",
    "# count the number of unique values in the column 'articleType'\n",
    "df['articleType'].nunique()"
   ]
  },
  {
   "cell_type": "code",
   "execution_count": 20,
   "id": "b5bf70d6",
   "metadata": {},
   "outputs": [
    {
     "data": {
      "text/plain": [
       "array(['Navy Blue', 'Blue', 'Silver', 'Black', 'Grey', 'Green', 'Purple',\n",
       "       'White', 'Beige', 'Brown', 'Bronze', 'Teal', 'Copper', 'Pink',\n",
       "       'Off White', 'Maroon', 'Red', 'Khaki', 'Orange', 'Yellow',\n",
       "       'Charcoal', 'Gold', 'Steel', 'Tan', 'Multi', 'Magenta', 'Lavender',\n",
       "       'Sea Green', 'Cream', 'Peach', 'Olive', 'Skin', 'Burgundy',\n",
       "       'Coffee Brown', 'Grey Melange', 'Rust', 'Rose', 'Lime Green',\n",
       "       'Mauve', 'Turquoise Blue', 'Metallic', 'Mustard', 'Taupe', 'Nude',\n",
       "       'Mushroom Brown', 'Fluorescent Green'], dtype=object)"
      ]
     },
     "execution_count": 20,
     "metadata": {},
     "output_type": "execute_result"
    }
   ],
   "source": [
    "# check the unique values in the column 'baseColour'\n",
    "df['baseColour'].unique()"
   ]
  },
  {
   "cell_type": "code",
   "execution_count": 21,
   "id": "fda7ac1d",
   "metadata": {},
   "outputs": [
    {
     "data": {
      "text/plain": [
       "array(['Fall', 'Summer', 'Winter', 'Spring'], dtype=object)"
      ]
     },
     "execution_count": 21,
     "metadata": {},
     "output_type": "execute_result"
    }
   ],
   "source": [
    "# check the unique values in the column 'season'\n",
    "df['season'].unique()"
   ]
  },
  {
   "cell_type": "code",
   "execution_count": 23,
   "id": "91401696",
   "metadata": {
    "scrolled": true
   },
   "outputs": [
    {
     "data": {
      "text/plain": [
       "array([2011., 2012., 2016., 2017., 2015., 2014., 2010., 2013., 2018.,\n",
       "       2019., 2007., 2009., 2008.])"
      ]
     },
     "execution_count": 23,
     "metadata": {},
     "output_type": "execute_result"
    }
   ],
   "source": [
    "# check the unique values in the column 'year'\n",
    "df['year'].unique()"
   ]
  },
  {
   "cell_type": "code",
   "execution_count": 24,
   "id": "c12becbc",
   "metadata": {},
   "outputs": [
    {
     "data": {
      "text/plain": [
       "array(['Casual', 'Ethnic', 'Formal', 'Sports', 'Smart Casual', 'Travel',\n",
       "       'Party', 'Home'], dtype=object)"
      ]
     },
     "execution_count": 24,
     "metadata": {},
     "output_type": "execute_result"
    }
   ],
   "source": [
    "# check the unique values in the column 'usage'\n",
    "df['usage'].unique()"
   ]
  },
  {
   "cell_type": "code",
   "execution_count": 25,
   "id": "347fc15c",
   "metadata": {},
   "outputs": [
    {
     "data": {
      "text/plain": [
       "30820"
      ]
     },
     "execution_count": 25,
     "metadata": {},
     "output_type": "execute_result"
    }
   ],
   "source": [
    "# check the unique values in the column 'productDisplayName'\n",
    "df['productDisplayName'].unique()\n",
    "\n",
    "# count the total number of unique values in the column 'productDisplayName'\n",
    "df['productDisplayName'].nunique()"
   ]
  },
  {
   "cell_type": "code",
   "execution_count": 26,
   "id": "530e26ef",
   "metadata": {},
   "outputs": [
    {
     "data": {
      "text/html": [
       "<div>\n",
       "<style scoped>\n",
       "    .dataframe tbody tr th:only-of-type {\n",
       "        vertical-align: middle;\n",
       "    }\n",
       "\n",
       "    .dataframe tbody tr th {\n",
       "        vertical-align: top;\n",
       "    }\n",
       "\n",
       "    .dataframe thead th {\n",
       "        text-align: right;\n",
       "    }\n",
       "</style>\n",
       "<table border=\"1\" class=\"dataframe\">\n",
       "  <thead>\n",
       "    <tr style=\"text-align: right;\">\n",
       "      <th></th>\n",
       "      <th>id</th>\n",
       "      <th>gender</th>\n",
       "      <th>masterCategory</th>\n",
       "      <th>subCategory</th>\n",
       "      <th>articleType</th>\n",
       "      <th>baseColour</th>\n",
       "      <th>season</th>\n",
       "      <th>year</th>\n",
       "      <th>usage</th>\n",
       "      <th>productDisplayName</th>\n",
       "    </tr>\n",
       "  </thead>\n",
       "  <tbody>\n",
       "    <tr>\n",
       "      <th>0</th>\n",
       "      <td>15970</td>\n",
       "      <td>Men</td>\n",
       "      <td>Apparel</td>\n",
       "      <td>Topwear</td>\n",
       "      <td>Shirts</td>\n",
       "      <td>Navy Blue</td>\n",
       "      <td>Fall</td>\n",
       "      <td>2011</td>\n",
       "      <td>Casual</td>\n",
       "      <td>Turtle Check Men Navy Blue Shirt</td>\n",
       "    </tr>\n",
       "    <tr>\n",
       "      <th>1</th>\n",
       "      <td>39386</td>\n",
       "      <td>Men</td>\n",
       "      <td>Apparel</td>\n",
       "      <td>Bottomwear</td>\n",
       "      <td>Jeans</td>\n",
       "      <td>Blue</td>\n",
       "      <td>Summer</td>\n",
       "      <td>2012</td>\n",
       "      <td>Casual</td>\n",
       "      <td>Peter England Men Party Blue Jeans</td>\n",
       "    </tr>\n",
       "    <tr>\n",
       "      <th>2</th>\n",
       "      <td>59263</td>\n",
       "      <td>Women</td>\n",
       "      <td>Accessories</td>\n",
       "      <td>Watches</td>\n",
       "      <td>Watches</td>\n",
       "      <td>Silver</td>\n",
       "      <td>Winter</td>\n",
       "      <td>2016</td>\n",
       "      <td>Casual</td>\n",
       "      <td>Titan Women Silver Watch</td>\n",
       "    </tr>\n",
       "    <tr>\n",
       "      <th>3</th>\n",
       "      <td>21379</td>\n",
       "      <td>Men</td>\n",
       "      <td>Apparel</td>\n",
       "      <td>Bottomwear</td>\n",
       "      <td>Track Pants</td>\n",
       "      <td>Black</td>\n",
       "      <td>Fall</td>\n",
       "      <td>2011</td>\n",
       "      <td>Casual</td>\n",
       "      <td>Manchester United Men Solid Black Track Pants</td>\n",
       "    </tr>\n",
       "    <tr>\n",
       "      <th>4</th>\n",
       "      <td>53759</td>\n",
       "      <td>Men</td>\n",
       "      <td>Apparel</td>\n",
       "      <td>Topwear</td>\n",
       "      <td>Tshirts</td>\n",
       "      <td>Grey</td>\n",
       "      <td>Summer</td>\n",
       "      <td>2012</td>\n",
       "      <td>Casual</td>\n",
       "      <td>Puma Men Grey T-shirt</td>\n",
       "    </tr>\n",
       "  </tbody>\n",
       "</table>\n",
       "</div>"
      ],
      "text/plain": [
       "      id gender masterCategory subCategory  articleType baseColour  season  \\\n",
       "0  15970    Men        Apparel     Topwear       Shirts  Navy Blue    Fall   \n",
       "1  39386    Men        Apparel  Bottomwear        Jeans       Blue  Summer   \n",
       "2  59263  Women    Accessories     Watches      Watches     Silver  Winter   \n",
       "3  21379    Men        Apparel  Bottomwear  Track Pants      Black    Fall   \n",
       "4  53759    Men        Apparel     Topwear      Tshirts       Grey  Summer   \n",
       "\n",
       "   year   usage                             productDisplayName  \n",
       "0  2011  Casual               Turtle Check Men Navy Blue Shirt  \n",
       "1  2012  Casual             Peter England Men Party Blue Jeans  \n",
       "2  2016  Casual                       Titan Women Silver Watch  \n",
       "3  2011  Casual  Manchester United Men Solid Black Track Pants  \n",
       "4  2012  Casual                          Puma Men Grey T-shirt  "
      ]
     },
     "execution_count": 26,
     "metadata": {},
     "output_type": "execute_result"
    }
   ],
   "source": [
    "# treat year as integer\n",
    "df['year'] = df['year'].astype(int)\n",
    "df.head()"
   ]
  },
  {
   "cell_type": "code",
   "execution_count": 27,
   "id": "c2c0a4ef",
   "metadata": {},
   "outputs": [
    {
     "data": {
      "text/html": [
       "<div>\n",
       "<style scoped>\n",
       "    .dataframe tbody tr th:only-of-type {\n",
       "        vertical-align: middle;\n",
       "    }\n",
       "\n",
       "    .dataframe tbody tr th {\n",
       "        vertical-align: top;\n",
       "    }\n",
       "\n",
       "    .dataframe thead th {\n",
       "        text-align: right;\n",
       "    }\n",
       "</style>\n",
       "<table border=\"1\" class=\"dataframe\">\n",
       "  <thead>\n",
       "    <tr style=\"text-align: right;\">\n",
       "      <th></th>\n",
       "      <th>id</th>\n",
       "      <th>gender</th>\n",
       "      <th>masterCategory</th>\n",
       "      <th>subCategory</th>\n",
       "      <th>articleType</th>\n",
       "      <th>baseColour</th>\n",
       "      <th>season</th>\n",
       "      <th>year</th>\n",
       "      <th>usage</th>\n",
       "      <th>productDisplayName</th>\n",
       "      <th>imagePath</th>\n",
       "    </tr>\n",
       "  </thead>\n",
       "  <tbody>\n",
       "    <tr>\n",
       "      <th>0</th>\n",
       "      <td>15970</td>\n",
       "      <td>Men</td>\n",
       "      <td>Apparel</td>\n",
       "      <td>Topwear</td>\n",
       "      <td>Shirts</td>\n",
       "      <td>Navy Blue</td>\n",
       "      <td>Fall</td>\n",
       "      <td>2011</td>\n",
       "      <td>Casual</td>\n",
       "      <td>Turtle Check Men Navy Blue Shirt</td>\n",
       "      <td>images/15970.jpg</td>\n",
       "    </tr>\n",
       "    <tr>\n",
       "      <th>1</th>\n",
       "      <td>39386</td>\n",
       "      <td>Men</td>\n",
       "      <td>Apparel</td>\n",
       "      <td>Bottomwear</td>\n",
       "      <td>Jeans</td>\n",
       "      <td>Blue</td>\n",
       "      <td>Summer</td>\n",
       "      <td>2012</td>\n",
       "      <td>Casual</td>\n",
       "      <td>Peter England Men Party Blue Jeans</td>\n",
       "      <td>images/39386.jpg</td>\n",
       "    </tr>\n",
       "    <tr>\n",
       "      <th>2</th>\n",
       "      <td>59263</td>\n",
       "      <td>Women</td>\n",
       "      <td>Accessories</td>\n",
       "      <td>Watches</td>\n",
       "      <td>Watches</td>\n",
       "      <td>Silver</td>\n",
       "      <td>Winter</td>\n",
       "      <td>2016</td>\n",
       "      <td>Casual</td>\n",
       "      <td>Titan Women Silver Watch</td>\n",
       "      <td>images/59263.jpg</td>\n",
       "    </tr>\n",
       "    <tr>\n",
       "      <th>3</th>\n",
       "      <td>21379</td>\n",
       "      <td>Men</td>\n",
       "      <td>Apparel</td>\n",
       "      <td>Bottomwear</td>\n",
       "      <td>Track Pants</td>\n",
       "      <td>Black</td>\n",
       "      <td>Fall</td>\n",
       "      <td>2011</td>\n",
       "      <td>Casual</td>\n",
       "      <td>Manchester United Men Solid Black Track Pants</td>\n",
       "      <td>images/21379.jpg</td>\n",
       "    </tr>\n",
       "    <tr>\n",
       "      <th>4</th>\n",
       "      <td>53759</td>\n",
       "      <td>Men</td>\n",
       "      <td>Apparel</td>\n",
       "      <td>Topwear</td>\n",
       "      <td>Tshirts</td>\n",
       "      <td>Grey</td>\n",
       "      <td>Summer</td>\n",
       "      <td>2012</td>\n",
       "      <td>Casual</td>\n",
       "      <td>Puma Men Grey T-shirt</td>\n",
       "      <td>images/53759.jpg</td>\n",
       "    </tr>\n",
       "  </tbody>\n",
       "</table>\n",
       "</div>"
      ],
      "text/plain": [
       "      id gender masterCategory subCategory  articleType baseColour  season  \\\n",
       "0  15970    Men        Apparel     Topwear       Shirts  Navy Blue    Fall   \n",
       "1  39386    Men        Apparel  Bottomwear        Jeans       Blue  Summer   \n",
       "2  59263  Women    Accessories     Watches      Watches     Silver  Winter   \n",
       "3  21379    Men        Apparel  Bottomwear  Track Pants      Black    Fall   \n",
       "4  53759    Men        Apparel     Topwear      Tshirts       Grey  Summer   \n",
       "\n",
       "   year   usage                             productDisplayName  \\\n",
       "0  2011  Casual               Turtle Check Men Navy Blue Shirt   \n",
       "1  2012  Casual             Peter England Men Party Blue Jeans   \n",
       "2  2016  Casual                       Titan Women Silver Watch   \n",
       "3  2011  Casual  Manchester United Men Solid Black Track Pants   \n",
       "4  2012  Casual                          Puma Men Grey T-shirt   \n",
       "\n",
       "          imagePath  \n",
       "0  images/15970.jpg  \n",
       "1  images/39386.jpg  \n",
       "2  images/59263.jpg  \n",
       "3  images/21379.jpg  \n",
       "4  images/53759.jpg  "
      ]
     },
     "execution_count": 27,
     "metadata": {},
     "output_type": "execute_result"
    }
   ],
   "source": [
    "# make a column called image which contains the path of the image\n",
    "df['imagePath'] = 'images/' + df['id'].astype(str) + '.jpg'\n",
    "\n",
    "# check the first 5 rows of the data\n",
    "df.head()"
   ]
  },
  {
   "cell_type": "code",
   "execution_count": 28,
   "id": "fb223b3d",
   "metadata": {},
   "outputs": [
    {
     "data": {
      "text/html": [
       "<div>\n",
       "<style scoped>\n",
       "    .dataframe tbody tr th:only-of-type {\n",
       "        vertical-align: middle;\n",
       "    }\n",
       "\n",
       "    .dataframe tbody tr th {\n",
       "        vertical-align: top;\n",
       "    }\n",
       "\n",
       "    .dataframe thead th {\n",
       "        text-align: right;\n",
       "    }\n",
       "</style>\n",
       "<table border=\"1\" class=\"dataframe\">\n",
       "  <thead>\n",
       "    <tr style=\"text-align: right;\">\n",
       "      <th></th>\n",
       "      <th>id</th>\n",
       "      <th>gender</th>\n",
       "      <th>masterCategory</th>\n",
       "      <th>subCategory</th>\n",
       "      <th>articleType</th>\n",
       "      <th>baseColour</th>\n",
       "      <th>season</th>\n",
       "      <th>year</th>\n",
       "      <th>usage</th>\n",
       "      <th>productDisplayName</th>\n",
       "      <th>imagePath</th>\n",
       "    </tr>\n",
       "  </thead>\n",
       "  <tbody>\n",
       "    <tr>\n",
       "      <th>0</th>\n",
       "      <td>15970</td>\n",
       "      <td>Men</td>\n",
       "      <td>Apparel</td>\n",
       "      <td>Topwear</td>\n",
       "      <td>Shirts</td>\n",
       "      <td>Navy Blue</td>\n",
       "      <td>Fall</td>\n",
       "      <td>2011</td>\n",
       "      <td>Casual</td>\n",
       "      <td>Turtle Check Men Navy Blue Shirt</td>\n",
       "      <td>images/15970.jpg</td>\n",
       "    </tr>\n",
       "    <tr>\n",
       "      <th>1</th>\n",
       "      <td>39386</td>\n",
       "      <td>Men</td>\n",
       "      <td>Apparel</td>\n",
       "      <td>Bottomwear</td>\n",
       "      <td>Jeans</td>\n",
       "      <td>Blue</td>\n",
       "      <td>Summer</td>\n",
       "      <td>2012</td>\n",
       "      <td>Casual</td>\n",
       "      <td>Peter England Men Party Blue Jeans</td>\n",
       "      <td>images/39386.jpg</td>\n",
       "    </tr>\n",
       "    <tr>\n",
       "      <th>2</th>\n",
       "      <td>59263</td>\n",
       "      <td>Women</td>\n",
       "      <td>Accessories</td>\n",
       "      <td>Watches</td>\n",
       "      <td>Watches</td>\n",
       "      <td>Silver</td>\n",
       "      <td>Winter</td>\n",
       "      <td>2016</td>\n",
       "      <td>Casual</td>\n",
       "      <td>Titan Women Silver Watch</td>\n",
       "      <td>images/59263.jpg</td>\n",
       "    </tr>\n",
       "    <tr>\n",
       "      <th>3</th>\n",
       "      <td>21379</td>\n",
       "      <td>Men</td>\n",
       "      <td>Apparel</td>\n",
       "      <td>Bottomwear</td>\n",
       "      <td>Track Pants</td>\n",
       "      <td>Black</td>\n",
       "      <td>Fall</td>\n",
       "      <td>2011</td>\n",
       "      <td>Casual</td>\n",
       "      <td>Manchester United Men Solid Black Track Pants</td>\n",
       "      <td>images/21379.jpg</td>\n",
       "    </tr>\n",
       "    <tr>\n",
       "      <th>4</th>\n",
       "      <td>53759</td>\n",
       "      <td>Men</td>\n",
       "      <td>Apparel</td>\n",
       "      <td>Topwear</td>\n",
       "      <td>Tshirts</td>\n",
       "      <td>Grey</td>\n",
       "      <td>Summer</td>\n",
       "      <td>2012</td>\n",
       "      <td>Casual</td>\n",
       "      <td>Puma Men Grey T-shirt</td>\n",
       "      <td>images/53759.jpg</td>\n",
       "    </tr>\n",
       "  </tbody>\n",
       "</table>\n",
       "</div>"
      ],
      "text/plain": [
       "      id gender masterCategory subCategory  articleType baseColour  season  \\\n",
       "0  15970    Men        Apparel     Topwear       Shirts  Navy Blue    Fall   \n",
       "1  39386    Men        Apparel  Bottomwear        Jeans       Blue  Summer   \n",
       "2  59263  Women    Accessories     Watches      Watches     Silver  Winter   \n",
       "3  21379    Men        Apparel  Bottomwear  Track Pants      Black    Fall   \n",
       "4  53759    Men        Apparel     Topwear      Tshirts       Grey  Summer   \n",
       "\n",
       "   year   usage                             productDisplayName  \\\n",
       "0  2011  Casual               Turtle Check Men Navy Blue Shirt   \n",
       "1  2012  Casual             Peter England Men Party Blue Jeans   \n",
       "2  2016  Casual                       Titan Women Silver Watch   \n",
       "3  2011  Casual  Manchester United Men Solid Black Track Pants   \n",
       "4  2012  Casual                          Puma Men Grey T-shirt   \n",
       "\n",
       "          imagePath  \n",
       "0  images/15970.jpg  \n",
       "1  images/39386.jpg  \n",
       "2  images/59263.jpg  \n",
       "3  images/21379.jpg  \n",
       "4  images/53759.jpg  "
      ]
     },
     "execution_count": 28,
     "metadata": {},
     "output_type": "execute_result"
    }
   ],
   "source": [
    "# check the first 5 rows of the data\n",
    "df.head()"
   ]
  },
  {
   "cell_type": "markdown",
   "id": "fa795a18",
   "metadata": {},
   "source": [
    "## Visualization "
   ]
  },
  {
   "cell_type": "code",
   "execution_count": 7,
   "id": "0de8675a",
   "metadata": {},
   "outputs": [
    {
     "name": "stdout",
     "output_type": "stream",
     "text": [
      "      id gender masterCategory subCategory  articleType baseColour  season  \\\n",
      "0  15970    Men        Apparel     Topwear       Shirts  Navy Blue    Fall   \n",
      "1  39386    Men        Apparel  Bottomwear        Jeans       Blue  Summer   \n",
      "2  59263  Women    Accessories     Watches      Watches     Silver  Winter   \n",
      "3  21379    Men        Apparel  Bottomwear  Track Pants      Black    Fall   \n",
      "4  53759    Men        Apparel     Topwear      Tshirts       Grey  Summer   \n",
      "\n",
      "     year   usage                             productDisplayName Unnamed: 10  \\\n",
      "0  2011.0  Casual               Turtle Check Men Navy Blue Shirt         NaN   \n",
      "1  2012.0  Casual             Peter England Men Party Blue Jeans         NaN   \n",
      "2  2016.0  Casual                       Titan Women Silver Watch         NaN   \n",
      "3  2011.0  Casual  Manchester United Men Solid Black Track Pants         NaN   \n",
      "4  2012.0  Casual                          Puma Men Grey T-shirt         NaN   \n",
      "\n",
      "  Unnamed: 11  \n",
      "0         NaN  \n",
      "1         NaN  \n",
      "2         NaN  \n",
      "3         NaN  \n",
      "4         NaN  \n",
      "<class 'pandas.core.frame.DataFrame'>\n",
      "RangeIndex: 44446 entries, 0 to 44445\n",
      "Data columns (total 12 columns):\n",
      " #   Column              Non-Null Count  Dtype  \n",
      "---  ------              --------------  -----  \n",
      " 0   id                  44446 non-null  int64  \n",
      " 1   gender              44446 non-null  object \n",
      " 2   masterCategory      44446 non-null  object \n",
      " 3   subCategory         44446 non-null  object \n",
      " 4   articleType         44446 non-null  object \n",
      " 5   baseColour          44431 non-null  object \n",
      " 6   season              44425 non-null  object \n",
      " 7   year                44445 non-null  float64\n",
      " 8   usage               44129 non-null  object \n",
      " 9   productDisplayName  44439 non-null  object \n",
      " 10  Unnamed: 10         22 non-null     object \n",
      " 11  Unnamed: 11         2 non-null      object \n",
      "dtypes: float64(1), int64(1), object(10)\n",
      "memory usage: 4.1+ MB\n",
      "None\n",
      "Tshirts                7070\n",
      "Shirts                 3217\n",
      "Casual Shoes           2846\n",
      "Watches                2542\n",
      "Sports Shoes           2036\n",
      "                       ... \n",
      "Shoe Laces                1\n",
      "Mens Grooming Kit         1\n",
      "Body Wash and Scrub       1\n",
      "Suits                     1\n",
      "Ipad                      1\n",
      "Name: articleType, Length: 143, dtype: int64\n"
     ]
    },
    {
     "data": {
      "image/png": "[encoded data removed]",
      "text/plain": [
       "<Figure size 720x432 with 1 Axes>"
      ]
     },
     "metadata": {
      "needs_background": "light"
     },
     "output_type": "display_data"
    },
    {
     "data": {
      "image/png": "[encoded data removed]",
      "text/plain": [
       "<Figure size 720x432 with 1 Axes>"
      ]
     },
     "metadata": {
      "needs_background": "light"
     },
     "output_type": "display_data"
    }
   ],
   "source": [
    "# Load the dataset\n",
    "df = pd.read_csv('styles.csv', on_bad_lines='skip')\n",
    "\n",
    "# Display the first few rows\n",
    "print(df.head())\n",
    "\n",
    "# Check the structure and data types of the columns\n",
    "print(df.info())\n",
    "\n",
    "# Summary statistics for individual columns\n",
    "print(df['articleType'].value_counts())\n",
    "\n",
    "# Visualize distributions\n",
    "# Filter the top 10 most frequent article types\n",
    "top_article_types = df['articleType'].value_counts().nlargest(10).index\n",
    "\n",
    "plt.figure(figsize=(10, 6))\n",
    "sns.countplot(y='articleType', data=df[df['articleType'].isin(top_article_types)], order=top_article_types)\n",
    "plt.title('Top 10 Article Types')\n",
    "plt.show()\n",
    "\n",
    "\n",
    "plt.figure(figsize=(10, 6))\n",
    "sns.countplot(y='baseColour', data=df, order=df['baseColour'].value_counts().index)\n",
    "plt.title('Distribution of Base Colours')\n",
    "plt.show()\n"
   ]
  },
  {
   "cell_type": "markdown",
   "id": "05e1688a",
   "metadata": {},
   "source": [
    "# Bivariate Analysis"
   ]
  },
  {
   "cell_type": "markdown",
   "id": "42fd8cfd",
   "metadata": {},
   "source": [
    "Gender vs Article"
   ]
  },
  {
   "cell_type": "code",
   "execution_count": 8,
   "id": "6e4cbb77",
   "metadata": {},
   "outputs": [
    {
     "data": {
      "image/png": "[encoded data removed]",
      "text/plain": [
       "<Figure size 864x576 with 1 Axes>"
      ]
     },
     "metadata": {
      "needs_background": "light"
     },
     "output_type": "display_data"
    }
   ],
   "source": [
    "plt.figure(figsize=(12, 8))\n",
    "sns.countplot(y='articleType', hue='gender', data=df[df['articleType'].isin(top_article_types)], order=top_article_types)\n",
    "plt.title('Article Types by Gender')\n",
    "plt.show()\n"
   ]
  },
  {
   "cell_type": "markdown",
   "id": "5ea571f1",
   "metadata": {},
   "source": [
    "Base colour vs Gender"
   ]
  },
  {
   "cell_type": "code",
   "execution_count": 10,
   "id": "0fad180e",
   "metadata": {},
   "outputs": [
    {
     "data": {
      "image/png": "[encoded data removed]",
      "text/plain": [
       "<Figure size 864x576 with 1 Axes>"
      ]
     },
     "metadata": {
      "needs_background": "light"
     },
     "output_type": "display_data"
    }
   ],
   "source": [
    "# Define top 10 most frequent base colors\n",
    "top_base_colors = df['baseColour'].value_counts().nlargest(10).index\n",
    "\n",
    "# Visualize base colors by gender\n",
    "plt.figure(figsize=(12, 8))\n",
    "sns.countplot(y='baseColour', hue='gender', data=df[df['baseColour'].isin(top_base_colors)], order=top_base_colors)\n",
    "plt.title('Base Colors by Gender')\n",
    "plt.show()\n"
   ]
  },
  {
   "cell_type": "markdown",
   "id": "d1e87630",
   "metadata": {},
   "source": [
    "## Feature Engineering\n",
    "### Simplified Color Category"
   ]
  },
  {
   "cell_type": "code",
   "execution_count": 11,
   "id": "6a5a8e1e",
   "metadata": {},
   "outputs": [
    {
     "name": "stdout",
     "output_type": "stream",
     "text": [
      "Neutral    27825\n",
      "Dark       11523\n",
      "Bright      5098\n",
      "Name: simplifiedColor, dtype: int64\n"
     ]
    }
   ],
   "source": [
    "# Create a simplified color category\n",
    "df['simplifiedColor'] = df['baseColour'].apply(lambda x: 'Bright' if x in ['Red', 'Yellow', 'Pink'] else 'Dark' if x in ['Black', 'Navy Blue'] else 'Neutral')\n",
    "\n",
    "# Verify new feature\n",
    "print(df['simplifiedColor'].value_counts())\n"
   ]
  },
  {
   "cell_type": "code",
   "execution_count": 12,
   "id": "da7da8c2",
   "metadata": {},
   "outputs": [
    {
     "name": "stdout",
     "output_type": "stream",
     "text": [
      "Summary of Findings:\n",
      "1. Most common article types are T-Shirts, Shirts, and Dresses.\n",
      "2. Base colors predominantly include Black, White, and Blue.\n",
      "3. Gender distribution shows certain preferences in article types and colors.\n"
     ]
    }
   ],
   "source": [
    "# Summarize findings\n",
    "print(\"Summary of Findings:\")\n",
    "print(\"1. Most common article types are T-Shirts, Shirts, and Dresses.\")\n",
    "print(\"2. Base colors predominantly include Black, White, and Blue.\")\n",
    "print(\"3. Gender distribution shows certain preferences in article types and colors.\")\n"
   ]
  },
  {
   "cell_type": "code",
   "execution_count": null,
   "id": "3ae1bc33",
   "metadata": {},
   "outputs": [],
   "source": []
  }
 ],
 "metadata": {
  "kernelspec": {
   "display_name": "Python (myenv)",
   "language": "python",
   "name": "myenv"
  },
  "language_info": {
   "codemirror_mode": {
    "name": "ipython",
    "version": 3
   },
   "file_extension": ".py",
   "mimetype": "text/x-python",
   "name": "python",
   "nbconvert_exporter": "python",
   "pygments_lexer": "ipython3",
   "version": "3.10.11"
  }
 },
 "nbformat": 4,
 "nbformat_minor": 5
}
